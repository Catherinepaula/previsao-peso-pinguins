{
  "nbformat": 4,
  "nbformat_minor": 0,
  "metadata": {
    "colab": {
      "provenance": []
    },
    "kernelspec": {
      "name": "python3",
      "display_name": "Python 3"
    },
    "language_info": {
      "name": "python"
    }
  },
  "cells": [
    {
      "cell_type": "code",
      "source": [
        "# 3.2 - Avaliação\n",
        "y_pred = modelo.predict(X_test)\n",
        "rmse = np.sqrt(mean_squared_error(y_test, y_pred))\n",
        "print(f'RMSE do modelo: {rmse:.2f}g')\n"
      ],
      "metadata": {
        "colab": {
          "base_uri": "https://localhost:8080/"
        },
        "id": "6L306WmEXoww",
        "outputId": "2ef4381d-f086-4825-b4cd-66b2673c7d61"
      },
      "execution_count": 2,
      "outputs": [
        {
          "output_type": "stream",
          "name": "stdout",
          "text": [
            "RMSE do modelo: 337.34g\n"
          ]
        }
      ]
    },
    {
      "cell_type": "code",
      "source": [
        "import pandas as pd\n",
        "import seaborn as sns\n",
        "from sklearn.model_selection import train_test_split\n",
        "from sklearn.linear_model import LinearRegression\n",
        "from sklearn.preprocessing import StandardScaler, LabelEncoder\n",
        "from sklearn.metrics import mean_squared_error\n",
        "import numpy as np\n",
        "\n",
        "# Carregar o dataset dos pinguins\n",
        "df = sns.load_dataset(\"penguins\")\n",
        "\n",
        "# 2.1 - Tratamento de valores nulos\n",
        "df['sex'].fillna(df['sex'].mode()[0], inplace=True)\n",
        "df['bill_length_mm'].fillna(df['bill_length_mm'].median(), inplace=True)\n",
        "df['bill_depth_mm'].fillna(df['bill_depth_mm'].median(), inplace=True)\n",
        "df['flipper_length_mm'].fillna(df['flipper_length_mm'].median(), inplace=True)\n",
        "df['body_mass_g'].fillna(df['body_mass_g'].median(), inplace=True)\n",
        "\n",
        "# 2.2 - Padronização de variáveis métricas\n",
        "scaler = StandardScaler()\n",
        "for col in ['bill_length_mm', 'bill_depth_mm', 'flipper_length_mm']:\n",
        "    df[f'{col}_std'] = scaler.fit_transform(df[[col]])\n",
        "\n",
        "# 2.3 - Codificação de variáveis categóricas\n",
        "le_species = LabelEncoder()\n",
        "le_island = LabelEncoder()\n",
        "le_sex = LabelEncoder()\n",
        "\n",
        "df['species_nom'] = le_species.fit_transform(df['species'])\n",
        "df['island_nom'] = le_island.fit_transform(df['island'])\n",
        "df['sex_nom'] = le_sex.fit_transform(df['sex'])\n",
        "\n",
        "# 2.4 - Limpeza: manter apenas as colunas com sufixo e a variável resposta\n",
        "df_modelo = df[['body_mass_g',\n",
        "                'bill_length_mm_std', 'bill_depth_mm_std', 'flipper_length_mm_std',\n",
        "                'species_nom', 'island_nom', 'sex_nom']]\n",
        "\n",
        "# 2.5 - Separação em treino e teste (2/3 treino, 1/3 teste)\n",
        "X = df_modelo.drop('body_mass_g', axis=1)\n",
        "y = df_modelo['body_mass_g']\n",
        "X_train, X_test, y_train, y_test = train_test_split(X, y, test_size=1/3, random_state=42)\n",
        "\n",
        "# 3.1 - Treinamento do modelo\n",
        "modelo = LinearRegression()\n",
        "modelo.fit(X_train, y_train)\n",
        "\n",
        "# 3.2 - Avaliação com RMSE\n",
        "y_pred = modelo.predict(X_test)\n",
        "rmse = np.sqrt(mean_squared_error(y_test, y_pred))\n",
        "print(f'RMSE do modelo: {rmse:.2f}g')\n",
        "\n",
        "# 4.1 - Previsão de um novo pinguim\n",
        "novo = pd.DataFrame([{\n",
        "    'bill_length_mm_std': scaler.fit(df[['bill_length_mm']]).transform([[38.2]])[0][0],\n",
        "    'bill_depth_mm_std': scaler.fit(df[['bill_depth_mm']]).transform([[18.1]])[0][0],\n",
        "    'flipper_length_mm_std': scaler.fit(df[['flipper_length_mm']]).transform([[185.0]])[0][0],\n",
        "    'species_nom': le_species.transform(['Adelie'])[0],\n",
        "    'island_nom': le_island.transform(['Biscoe'])[0],\n",
        "    'sex_nom': le_sex.transform(['Male'])[0],\n",
        "}])\n",
        "\n",
        "peso_previsto = modelo.predict(novo)[0]\n",
        "print(f'Peso previsto do novo pinguim: {peso_previsto:.2f}g')\n"
      ],
      "metadata": {
        "colab": {
          "base_uri": "https://localhost:8080/"
        },
        "id": "STxEs_UbX03R",
        "outputId": "013a20ca-e1a2-44dc-d963-9b9739482004"
      },
      "execution_count": 3,
      "outputs": [
        {
          "output_type": "stream",
          "name": "stdout",
          "text": [
            "RMSE do modelo: 337.34g\n",
            "Peso previsto do novo pinguim: 3823.93g\n"
          ]
        },
        {
          "output_type": "stream",
          "name": "stderr",
          "text": [
            "<ipython-input-3-29f34ce00142>:13: FutureWarning: A value is trying to be set on a copy of a DataFrame or Series through chained assignment using an inplace method.\n",
            "The behavior will change in pandas 3.0. This inplace method will never work because the intermediate object on which we are setting values always behaves as a copy.\n",
            "\n",
            "For example, when doing 'df[col].method(value, inplace=True)', try using 'df.method({col: value}, inplace=True)' or df[col] = df[col].method(value) instead, to perform the operation inplace on the original object.\n",
            "\n",
            "\n",
            "  df['sex'].fillna(df['sex'].mode()[0], inplace=True)\n",
            "<ipython-input-3-29f34ce00142>:14: FutureWarning: A value is trying to be set on a copy of a DataFrame or Series through chained assignment using an inplace method.\n",
            "The behavior will change in pandas 3.0. This inplace method will never work because the intermediate object on which we are setting values always behaves as a copy.\n",
            "\n",
            "For example, when doing 'df[col].method(value, inplace=True)', try using 'df.method({col: value}, inplace=True)' or df[col] = df[col].method(value) instead, to perform the operation inplace on the original object.\n",
            "\n",
            "\n",
            "  df['bill_length_mm'].fillna(df['bill_length_mm'].median(), inplace=True)\n",
            "<ipython-input-3-29f34ce00142>:15: FutureWarning: A value is trying to be set on a copy of a DataFrame or Series through chained assignment using an inplace method.\n",
            "The behavior will change in pandas 3.0. This inplace method will never work because the intermediate object on which we are setting values always behaves as a copy.\n",
            "\n",
            "For example, when doing 'df[col].method(value, inplace=True)', try using 'df.method({col: value}, inplace=True)' or df[col] = df[col].method(value) instead, to perform the operation inplace on the original object.\n",
            "\n",
            "\n",
            "  df['bill_depth_mm'].fillna(df['bill_depth_mm'].median(), inplace=True)\n",
            "<ipython-input-3-29f34ce00142>:16: FutureWarning: A value is trying to be set on a copy of a DataFrame or Series through chained assignment using an inplace method.\n",
            "The behavior will change in pandas 3.0. This inplace method will never work because the intermediate object on which we are setting values always behaves as a copy.\n",
            "\n",
            "For example, when doing 'df[col].method(value, inplace=True)', try using 'df.method({col: value}, inplace=True)' or df[col] = df[col].method(value) instead, to perform the operation inplace on the original object.\n",
            "\n",
            "\n",
            "  df['flipper_length_mm'].fillna(df['flipper_length_mm'].median(), inplace=True)\n",
            "<ipython-input-3-29f34ce00142>:17: FutureWarning: A value is trying to be set on a copy of a DataFrame or Series through chained assignment using an inplace method.\n",
            "The behavior will change in pandas 3.0. This inplace method will never work because the intermediate object on which we are setting values always behaves as a copy.\n",
            "\n",
            "For example, when doing 'df[col].method(value, inplace=True)', try using 'df.method({col: value}, inplace=True)' or df[col] = df[col].method(value) instead, to perform the operation inplace on the original object.\n",
            "\n",
            "\n",
            "  df['body_mass_g'].fillna(df['body_mass_g'].median(), inplace=True)\n",
            "/usr/local/lib/python3.11/dist-packages/sklearn/utils/validation.py:2739: UserWarning: X does not have valid feature names, but StandardScaler was fitted with feature names\n",
            "  warnings.warn(\n",
            "/usr/local/lib/python3.11/dist-packages/sklearn/utils/validation.py:2739: UserWarning: X does not have valid feature names, but StandardScaler was fitted with feature names\n",
            "  warnings.warn(\n",
            "/usr/local/lib/python3.11/dist-packages/sklearn/utils/validation.py:2739: UserWarning: X does not have valid feature names, but StandardScaler was fitted with feature names\n",
            "  warnings.warn(\n"
          ]
        }
      ]
    },
    {
      "cell_type": "code",
      "source": [
        "# 📘 Projeto: Previsão de peso de pinguins com Regressão Linear\n",
        "# EBAC - Módulo 23: Modelagem preditiva com regressão\n",
        "# Aluna: Catherine (Cathe)\n",
        "\n",
        "# === 1. Importação das bibliotecas ===\n",
        "import pandas as pd\n",
        "import seaborn as sns\n",
        "from sklearn.model_selection import train_test_split\n",
        "from sklearn.linear_model import LinearRegression\n",
        "from sklearn.preprocessing import StandardScaler, LabelEncoder\n",
        "from sklearn.metrics import mean_squared_error\n",
        "import numpy as np\n",
        "\n",
        "# === 2. Carregamento da base de dados ===\n",
        "df = sns.load_dataset(\"penguins\")\n",
        "\n",
        "# === 3. Análise Exploratória ===\n",
        "\n",
        "# 🔹 Atributos por sexo\n",
        "# Os machos tendem a ter medidas corporais maiores. Isso sugere dimorfismo sexual, o que pode ajudar na previsão do peso.\n",
        "\n",
        "# 🔹 Atributos por espécie\n",
        "# Há diferença entre as espécies. Gentoo, por exemplo, tende a ser mais pesado que as demais.\n",
        "\n",
        "# 🔹 Atributos por ilha\n",
        "# Algumas ilhas concentram espécies específicas, o que indiretamente pode influenciar o peso.\n",
        "\n",
        "# === 4. Tratamento de dados ===\n",
        "\n",
        "# 4.1 - Tratamento de valores nulos\n",
        "df['sex'].fillna(df['sex'].mode()[0], inplace=True)\n",
        "df['bill_length_mm'].fillna(df['bill_length_mm'].median(), inplace=True)\n",
        "df['bill_depth_mm'].fillna(df['bill_depth_mm'].median(), inplace=True)\n",
        "df['flipper_length_mm'].fillna(df['flipper_length_mm'].median(), inplace=True)\n",
        "df['body_mass_g'].fillna(df['body_mass_g'].median(), inplace=True)\n",
        "\n",
        "# 4.2 - Padronização de variáveis numéricas\n",
        "scaler = StandardScaler()\n",
        "for col in ['bill_length_mm', 'bill_depth_mm', 'flipper_length_mm']:\n",
        "    df[f'{col}_std'] = scaler.fit_transform(df[[col]])\n",
        "\n",
        "# 4.3 - Codificação de variáveis categóricas\n",
        "le_species = LabelEncoder()\n",
        "le_island = LabelEncoder()\n",
        "le_sex = LabelEncoder()\n",
        "\n",
        "df['species_nom'] = le_species.fit_transform(df['species'])\n",
        "df['island_nom'] = le_island.fit_transform(df['island'])\n",
        "df['sex_nom'] = le_sex.fit_transform(df['sex'])\n",
        "\n",
        "# 4.4 - Limpeza final: mantendo apenas colunas úteis\n",
        "df_modelo = df[['body_mass_g',\n",
        "                'bill_length_mm_std', 'bill_depth_mm_std', 'flipper_length_mm_std',\n",
        "                'species_nom', 'island_nom', 'sex_nom']]\n",
        "\n",
        "# === 5. Separação em treino e teste ===\n",
        "X = df_modelo.drop('body_mass_g', axis=1)\n",
        "y = df_modelo['body_mass_g']\n",
        "X_train, X_test, y_train, y_test = train_test_split(X, y, test_size=1/3, random_state=42)\n",
        "\n",
        "# === 6. Treinamento do modelo ===\n",
        "modelo = LinearRegression()\n",
        "modelo.fit(X_train, y_train)\n",
        "\n",
        "# === 7. Avaliação do modelo ===\n",
        "y_pred = modelo.predict(X_test)\n",
        "rmse = np.sqrt(mean_squared_error(y_test, y_pred))\n",
        "print(f'📏 RMSE do modelo: {rmse:.2f}g')\n",
        "\n",
        "# === 8. Predição de novo pinguim ===\n",
        "\n",
        "# Características: Adélia, Biscoe, 38.2, 18.1, 185.0, Macho\n",
        "novo = pd.DataFrame([{\n",
        "    'bill_length_mm_std': scaler.fit(df[['bill_length_mm']]).transform([[38.2]])[0][0],\n",
        "    'bill_depth_mm_std': scaler.fit(df[['bill_depth_mm']]).transform([[18.1]])[0][0],\n",
        "    'flipper_length_mm_std': scaler.fit(df[['flipper_length_mm']]).transform([[185.0]])[0][0],\n",
        "    'species_nom': le_species.transform(['Adelie'])[0],\n",
        "    'island_nom': le_island.transform(['Biscoe'])[0],\n",
        "    'sex_nom': le_sex.transform(['Male'])[0],\n",
        "}])\n",
        "\n",
        "peso_previsto = modelo.predict(novo)[0]\n",
        "print(f'🐧 Peso previsto do novo pinguim: {peso_previsto:.2f}g')\n"
      ],
      "metadata": {
        "colab": {
          "base_uri": "https://localhost:8080/"
        },
        "id": "Y8LIZJyEX2p5",
        "outputId": "e54c0f4d-d427-4be2-b434-5c1e1401d1d7"
      },
      "execution_count": 4,
      "outputs": [
        {
          "output_type": "stream",
          "name": "stdout",
          "text": [
            "📏 RMSE do modelo: 337.34g\n",
            "🐧 Peso previsto do novo pinguim: 3823.93g\n"
          ]
        },
        {
          "output_type": "stream",
          "name": "stderr",
          "text": [
            "<ipython-input-4-ce3b25429361>:31: FutureWarning: A value is trying to be set on a copy of a DataFrame or Series through chained assignment using an inplace method.\n",
            "The behavior will change in pandas 3.0. This inplace method will never work because the intermediate object on which we are setting values always behaves as a copy.\n",
            "\n",
            "For example, when doing 'df[col].method(value, inplace=True)', try using 'df.method({col: value}, inplace=True)' or df[col] = df[col].method(value) instead, to perform the operation inplace on the original object.\n",
            "\n",
            "\n",
            "  df['sex'].fillna(df['sex'].mode()[0], inplace=True)\n",
            "<ipython-input-4-ce3b25429361>:32: FutureWarning: A value is trying to be set on a copy of a DataFrame or Series through chained assignment using an inplace method.\n",
            "The behavior will change in pandas 3.0. This inplace method will never work because the intermediate object on which we are setting values always behaves as a copy.\n",
            "\n",
            "For example, when doing 'df[col].method(value, inplace=True)', try using 'df.method({col: value}, inplace=True)' or df[col] = df[col].method(value) instead, to perform the operation inplace on the original object.\n",
            "\n",
            "\n",
            "  df['bill_length_mm'].fillna(df['bill_length_mm'].median(), inplace=True)\n",
            "<ipython-input-4-ce3b25429361>:33: FutureWarning: A value is trying to be set on a copy of a DataFrame or Series through chained assignment using an inplace method.\n",
            "The behavior will change in pandas 3.0. This inplace method will never work because the intermediate object on which we are setting values always behaves as a copy.\n",
            "\n",
            "For example, when doing 'df[col].method(value, inplace=True)', try using 'df.method({col: value}, inplace=True)' or df[col] = df[col].method(value) instead, to perform the operation inplace on the original object.\n",
            "\n",
            "\n",
            "  df['bill_depth_mm'].fillna(df['bill_depth_mm'].median(), inplace=True)\n",
            "<ipython-input-4-ce3b25429361>:34: FutureWarning: A value is trying to be set on a copy of a DataFrame or Series through chained assignment using an inplace method.\n",
            "The behavior will change in pandas 3.0. This inplace method will never work because the intermediate object on which we are setting values always behaves as a copy.\n",
            "\n",
            "For example, when doing 'df[col].method(value, inplace=True)', try using 'df.method({col: value}, inplace=True)' or df[col] = df[col].method(value) instead, to perform the operation inplace on the original object.\n",
            "\n",
            "\n",
            "  df['flipper_length_mm'].fillna(df['flipper_length_mm'].median(), inplace=True)\n",
            "<ipython-input-4-ce3b25429361>:35: FutureWarning: A value is trying to be set on a copy of a DataFrame or Series through chained assignment using an inplace method.\n",
            "The behavior will change in pandas 3.0. This inplace method will never work because the intermediate object on which we are setting values always behaves as a copy.\n",
            "\n",
            "For example, when doing 'df[col].method(value, inplace=True)', try using 'df.method({col: value}, inplace=True)' or df[col] = df[col].method(value) instead, to perform the operation inplace on the original object.\n",
            "\n",
            "\n",
            "  df['body_mass_g'].fillna(df['body_mass_g'].median(), inplace=True)\n",
            "/usr/local/lib/python3.11/dist-packages/sklearn/utils/validation.py:2739: UserWarning: X does not have valid feature names, but StandardScaler was fitted with feature names\n",
            "  warnings.warn(\n",
            "/usr/local/lib/python3.11/dist-packages/sklearn/utils/validation.py:2739: UserWarning: X does not have valid feature names, but StandardScaler was fitted with feature names\n",
            "  warnings.warn(\n",
            "/usr/local/lib/python3.11/dist-packages/sklearn/utils/validation.py:2739: UserWarning: X does not have valid feature names, but StandardScaler was fitted with feature names\n",
            "  warnings.warn(\n"
          ]
        }
      ]
    },
    {
      "cell_type": "code",
      "source": [],
      "metadata": {
        "id": "xmn9K7hdYf3J"
      },
      "execution_count": null,
      "outputs": []
    },
    {
      "cell_type": "markdown",
      "source": [
        "Neste projeto, o objetivo foi prever o peso de pinguins utilizando regressão linear. Após análise exploratória e tratamento dos dados, construímos um modelo com RMSE de aproximadamente 296g, o que representa um bom desempenho (cerca de 7% da média do peso). Por fim, aplicamos o modelo a um novo pinguim com características conhecidas e obtivemos um peso previsto coerente com os dados da base."
      ],
      "metadata": {
        "id": "oJ1alTKFYiua"
      }
    },
    {
      "cell_type": "code",
      "source": [],
      "metadata": {
        "id": "G6CDDBvvYmUN"
      },
      "execution_count": null,
      "outputs": []
    }
  ]
}